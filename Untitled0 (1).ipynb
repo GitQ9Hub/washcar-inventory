{
  "nbformat": 4,
  "nbformat_minor": 0,
  "metadata": {
    "colab": {
      "provenance": []
    },
    "kernelspec": {
      "name": "python3",
      "display_name": "Python 3"
    },
    "language_info": {
      "name": "python"
    }
  },
  "cells": [
    {
      "cell_type": "code",
      "execution_count": null,
      "metadata": {
        "id": "vbdxK0LBx4PP"
      },
      "outputs": [],
      "source": []
    },
    {
      "cell_type": "markdown",
      "source": [
        "# Wash car project\n"
      ],
      "metadata": {
        "id": "BP_hituYyqTV"
      }
    },
    {
      "cell_type": "markdown",
      "source": [],
      "metadata": {
        "id": "MG0005wJyogP"
      }
    },
    {
      "cell_type": "code",
      "source": [
        "import numpy as np\n",
        "import pandas as pd\n"
      ],
      "metadata": {
        "id": "g7Cz89W5y3BI"
      },
      "execution_count": 1,
      "outputs": []
    },
    {
      "cell_type": "code",
      "source": [
        "df = pd.read_csv('/content/AutoInsuranceCustomers.csv')\n",
        "print(df.columns)\n",
        "print(len(df.columns))"
      ],
      "metadata": {
        "colab": {
          "base_uri": "https://localhost:8080/"
        },
        "id": "k_2NdLPl1N7h",
        "outputId": "24e1107e-6897-4f46-e343-4eea171232e6"
      },
      "execution_count": 19,
      "outputs": [
        {
          "output_type": "stream",
          "name": "stdout",
          "text": [
            "Index(['CUSTOMER', 'NAME', 'COUNTRY', 'EMAIL_ADDRESS', 'PHONE_NUMBER',\n",
            "       'GENDER', 'NATIONAL_ID', 'CREDITCARD_NUMBER', 'CREDITCARD_TYPE',\n",
            "       'CREDITCARD_EXP', 'CREDITCARD_CVV', 'EDUCATION', 'EMPLOYMENT_STATUS',\n",
            "       'INCOME', 'MARITAL_STATUS', 'CUSTOMER_LIFETIME_VALUE',\n",
            "       'NUMBER_OF_POLICIES', 'NUMBER_OF_CLOSED_COMPLAINTS',\n",
            "       'NUMBER_OF_COMMUNICATIONS', 'NUMBER_OF_COMPLAINTS',\n",
            "       'NUMBER_OF_OPEN_COMPLAINTS'],\n",
            "      dtype='object')\n",
            "21\n"
          ]
        }
      ]
    },
    {
      "cell_type": "code",
      "source": [
        "vehicle = [\"2018 Vantage-Aston Martin\", \"2012 Vanquish-Aston Martin\", \"2016 M2 Coupe-BMW\", \"2014 M4 Coupe-BMW\", \"1966 Nova Super Sport-Chevrolet\", \"1960 Corvette-Chevrolet\", \"2018 Durango SRT-Dodge\", \"2017 GTC4Lusso-Ferrari\", \"2015 F12TDF-Ferrari\", \"2002 Enzo Ferrari-Ferrari\", \"1962 250 GTO-Ferrari\", \"2018 #25 Mustang RTR-Ford\", \"2018 Mustang GT-Ford\", \"2017 F-150 Raptor-Ford\", \"2014 Ranger T6 Rally Raid-Ford\", \"2014 Fiesta ST-Ford\", \"1975 Bronco-Ford\", \"2018 Civic Type R-Honda\", \"2017 F-Pace S-Jaguar\",\"2018 Grand Cherokee Trackhawk-Jeep\", \"2012 Wrangler Rubicorn-Jeep\"]\n",
        "df['VEHICLE'] = vehicle"
      ],
      "metadata": {
        "id": "o0mtmvki1pfd"
      },
      "execution_count": 20,
      "outputs": []
    },
    {
      "cell_type": "code",
      "source": [
        "# prompt: generate con una fila df un  dictionary with keys customer, name, email, creditcard_number, creditcard_type\n",
        "\n",
        "def generate_dictionary(row):\n",
        "  \"\"\"Generates a dictionary from a DataFrame row.\n",
        "\n",
        "  Args:\n",
        "    row: A pandas Series representing a row of the DataFrame.\n",
        "\n",
        "  Returns:\n",
        "    A dictionary with keys 'customer', 'name', 'email', 'creditcard_number',\n",
        "    'creditcard_type'.\n",
        "  \"\"\"\n",
        "  return {\n",
        "      'customer': row['CUSTOMER'],\n",
        "      'name': row['NAME'],\n",
        "      'email': row['EMAIL_ADDRESS'],\n",
        "      'creditcard_number': row['CREDITCARD_NUMBER'],\n",
        "      'creditcard_type': row['CREDITCARD_TYPE'],\n",
        "      'vehicle': row['VEHICLE']\n",
        "  }\n",
        "\n",
        "# Example usage:\n",
        "first_row = df.iloc[0]  # Get the first row of the DataFrame\n",
        "dictionary_from_first_row = generate_dictionary(first_row)\n",
        "print(dictionary_from_first_row)\n"
      ],
      "metadata": {
        "colab": {
          "base_uri": "https://localhost:8080/"
        },
        "id": "Fg1IoIf95qM4",
        "outputId": "ed176955-ff65-413e-81fb-b5ab995d2246"
      },
      "execution_count": 21,
      "outputs": [
        {
          "output_type": "stream",
          "name": "stdout",
          "text": [
            "{'customer': 'CW12345', 'name': 'Amy Blanks', 'email': 'ablanks@renovations.com', 'creditcard_number': 45186546347123700, 'creditcard_type': 'VISA', 'vehicle': '2018 Vantage-Aston Martin'}\n"
          ]
        }
      ]
    },
    {
      "cell_type": "code",
      "source": [
        "df.to_csv('washcar.csv', index=False)\n"
      ],
      "metadata": {
        "id": "vtL9IvPG_Ucr"
      },
      "execution_count": 22,
      "outputs": []
    }
  ]
}